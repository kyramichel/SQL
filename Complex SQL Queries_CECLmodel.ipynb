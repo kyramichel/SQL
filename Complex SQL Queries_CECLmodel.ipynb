{
  "cells": [
    {
      "cell_type": "markdown",
      "metadata": {
        "id": "skQcgkM2Hery"
      },
      "source": [
        "\n",
        "# SQL Queries for Machine Learning\n",
        "\n",
        "In this notebook, I illustrate how to perform complex SQL queries to:\n",
        "\n",
        "- Create tables and populate them with sample data pertinent to the CECL model.\n",
        "- Calculate key metrics, such as loan default rates and rolling default rates, which are critical for understanding credit risk.\n",
        "- Preprocess data for building a ML model.\n"
      ]
    },
    {
      "cell_type": "markdown",
      "metadata": {
        "id": "DuKQdLYpO6dC"
      },
      "source": [
        "**Step 1: Set up SQLite3**\n"
      ]
    },
    {
      "cell_type": "code",
      "execution_count": 1,
      "metadata": {
        "id": "bdKxauNCOxmf"
      },
      "outputs": [],
      "source": [
        "import sqlite3\n",
        "\n",
        "# Create a connection to the SQLite database\n",
        "conn = sqlite3.connect(':memory:')  # Use in-memory database for demonstration\n",
        "cursor = conn.cursor()\n"
      ]
    },
    {
      "cell_type": "markdown",
      "metadata": {
        "id": "BrXyB6tIXRaC"
      },
      "source": [
        "**Assume we have the following tables in our database:**\n",
        "\n",
        "- **loans**: This table contains information about individual loans, including details such as loan amount, interest rate, term, and status.\n",
        "\n",
        "- **payments**: This table holds information about loan payments, including payment dates, amounts, and associated loan IDs.\n",
        "\n",
        "- **borrowers**: This table includes information about borrowers, such as their names, contact details, credit scores, and demographic information.\n",
        "\n",
        "- **economic_indicators**: This table contains economic data that may influence loan performance, including metrics like unemployment rates, inflation rates, and GDP growth.\n",
        "\n",
        "\n"
      ]
    },
    {
      "cell_type": "markdown",
      "metadata": {
        "id": "v6ssBcukPEmo"
      },
      "source": [
        "**Step 2: Create the tables**\n",
        "\n",
        "In this step, we will create the tables to store information about loans, payments, borrowers, and economic indicators using the following SQL commands:"
      ]
    },
    {
      "cell_type": "code",
      "execution_count": 2,
      "metadata": {
        "colab": {
          "base_uri": "https://localhost:8080/"
        },
        "id": "mxSu0y6OO7s_",
        "outputId": "041eda17-d602-4bb6-f3bc-0d5a49ab3fe2"
      },
      "outputs": [
        {
          "data": {
            "text/plain": [
              "<sqlite3.Cursor at 0x7bd5d0aff7c0>"
            ]
          },
          "execution_count": 2,
          "metadata": {},
          "output_type": "execute_result"
        }
      ],
      "source": [
        "# Create tables\n",
        "cursor.execute('''\n",
        "CREATE TABLE loans (\n",
        "    loan_id INTEGER PRIMARY KEY,\n",
        "    borrower_id INTEGER,\n",
        "    loan_amount REAL,\n",
        "    loan_date DATE,\n",
        "    maturity_date DATE,\n",
        "    interest_rate REAL,\n",
        "    loan_status TEXT\n",
        ");\n",
        "''')\n",
        "\n",
        "cursor.execute('''\n",
        "CREATE TABLE payments (\n",
        "    payment_id INTEGER PRIMARY KEY,\n",
        "    loan_id INTEGER,\n",
        "    payment_date DATE,\n",
        "    payment_amount REAL,\n",
        "    payment_status TEXT\n",
        ");\n",
        "''')\n",
        "\n",
        "cursor.execute('''\n",
        "CREATE TABLE borrowers (\n",
        "    borrower_id INTEGER PRIMARY KEY,\n",
        "    name TEXT,\n",
        "    credit_score INTEGER,\n",
        "    income REAL,\n",
        "    employment_status TEXT\n",
        ");\n",
        "''')\n",
        "\n",
        "cursor.execute('''\n",
        "CREATE TABLE economic_indicators (\n",
        "    date DATE,\n",
        "    unemployment_rate REAL,\n",
        "    gdp_growth REAL,\n",
        "    interest_rate REAL\n",
        ");\n",
        "''')\n"
      ]
    },
    {
      "cell_type": "markdown",
      "metadata": {
        "id": "5MOJ67aQPLSA"
      },
      "source": [
        "**Step 2: Insert data into tables:**"
      ]
    },
    {
      "cell_type": "code",
      "execution_count": 3,
      "metadata": {
        "colab": {
          "base_uri": "https://localhost:8080/"
        },
        "id": "75cyq82vO7wY",
        "outputId": "a114c8e5-689b-43f5-a2a3-72066ece92d8"
      },
      "outputs": [
        {
          "data": {
            "text/plain": [
              "<sqlite3.Cursor at 0x7bd5d0aff7c0>"
            ]
          },
          "execution_count": 3,
          "metadata": {},
          "output_type": "execute_result"
        }
      ],
      "source": [
        "# Insert data into loans\n",
        "cursor.executemany('''\n",
        "INSERT INTO loans (loan_id, borrower_id, loan_amount, loan_date, maturity_date, interest_rate, loan_status) VALUES (?, ?, ?, ?, ?, ?, ?);\n",
        "''', [\n",
        "    (1, 1, 100000, '2020-01-01', '2025-01-01', 0.05, 'Active'),\n",
        "    (2, 2, 150000, '2020-02-01', '2025-02-01', 0.06, 'Defaulted'),\n",
        "    (3, 3, 200000, '2020-03-01', '2025-03-01', 0.04, 'Active')\n",
        "])\n",
        "\n",
        "# Insert data into payments\n",
        "cursor.executemany('''\n",
        "INSERT INTO payments (payment_id, loan_id, payment_date, payment_amount, payment_status) VALUES (?, ?, ?, ?, ?);\n",
        "''', [\n",
        "    (1, 1, '2020-02-01', 500, 'Paid'),\n",
        "    (2, 1, '2020-03-01', 500, 'Paid'),\n",
        "    (3, 2, '2020-02-01', 750, 'Defaulted'),\n",
        "    (4, 3, '2020-03-01', 1000, 'Paid')\n",
        "])\n",
        "\n",
        "# Insert data into borrowers\n",
        "cursor.executemany('''\n",
        "INSERT INTO borrowers (borrower_id, name, credit_score, income, employment_status) VALUES (?, ?, ?, ?, ?);\n",
        "''', [\n",
        "    (1, 'John Doe', 750, 80000, 'Employed'),\n",
        "    (2, 'Jane Smith', 600, 60000, 'Unemployed'),\n",
        "    (3, 'Alice Johnson', 800, 90000, 'Employed')\n",
        "])\n",
        "\n",
        "# Insert data into economic_indicators\n",
        "cursor.executemany('''\n",
        "INSERT INTO economic_indicators (date, unemployment_rate, gdp_growth, interest_rate) VALUES (?, ?, ?, ?);\n",
        "''', [\n",
        "    ('2020-01-01', 5.0, 2.5, 0.03),\n",
        "    ('2020-02-01', 5.2, 2.4, 0.03),\n",
        "    ('2020-03-01', 5.5, 2.3, 0.03)\n",
        "])\n"
      ]
    },
    {
      "cell_type": "markdown",
      "metadata": {
        "id": "3sEj55m4PeaB"
      },
      "source": [
        "*italicized text*\n",
        "## Complex SQL Queries:\n",
        "\n",
        "**Step 4: Calculate Loan Default Rates**\n",
        "\n"
      ]
    },
    {
      "cell_type": "code",
      "execution_count": 7,
      "metadata": {
        "colab": {
          "base_uri": "https://localhost:8080/"
        },
        "id": "85kDxIWQQYYV",
        "outputId": "3ee432e3-131a-470d-9865-fb18745d0bf3"
      },
      "outputs": [
        {
          "name": "stdout",
          "output_type": "stream",
          "text": [
            "   Loan ID  Borrower ID  Loan Amount   Loan Date Maturity Date  Interest Rate  \\\n",
            "0        1            1     100000.0  2020-01-01    2025-01-01           0.05   \n",
            "1        2            2     150000.0  2020-02-01    2025-02-01           0.06   \n",
            "2        3            3     200000.0  2020-03-01    2025-03-01           0.04   \n",
            "\n",
            "  Loan Status           Name  Credit Score   Income Employment Status  \\\n",
            "0      Active       John Doe           750  80000.0          Employed   \n",
            "1   Defaulted     Jane Smith           600  60000.0        Unemployed   \n",
            "2      Active  Alice Johnson           800  90000.0          Employed   \n",
            "\n",
            "   Total Payments  Defaulted Payments  Default Rate  \n",
            "0               2                   0           0.0  \n",
            "1               1                   1           1.0  \n",
            "2               1                   0           0.0  \n"
          ]
        }
      ],
      "source": [
        "# Calculate Loan Default Rates\n",
        "query = '''\n",
        "SELECT\n",
        "    l.loan_id,\n",
        "    l.borrower_id,\n",
        "    l.loan_amount,\n",
        "    l.loan_date,\n",
        "    l.maturity_date,\n",
        "    l.interest_rate,\n",
        "    l.loan_status,\n",
        "    b.name,\n",
        "    b.credit_score,\n",
        "    b.income,\n",
        "    b.employment_status,\n",
        "    COUNT(p.payment_id) AS total_payments,\n",
        "    SUM(CASE WHEN p.payment_status = 'Defaulted' THEN 1 ELSE 0 END) AS defaulted_payments,\n",
        "    (SUM(CASE WHEN p.payment_status = 'Defaulted' THEN 1 ELSE 0 END) * 1.0 / NULLIF(COUNT(p.payment_id), 0)) AS default_rate\n",
        "FROM\n",
        "    loans l\n",
        "LEFT JOIN\n",
        "    payments p ON l.loan_id = p.loan_id\n",
        "JOIN\n",
        "    borrowers b ON l.borrower_id = b.borrower_id\n",
        "GROUP BY\n",
        "    l.loan_id,\n",
        "    l.borrower_id,\n",
        "    l.loan_amount,\n",
        "    l.loan_date,\n",
        "    l.maturity_date,\n",
        "    l.interest_rate,\n",
        "    l.loan_status,\n",
        "    b.name,\n",
        "    b.credit_score,\n",
        "    b.income,\n",
        "    b.employment_status\n",
        "ORDER BY\n",
        "    l.loan_id;\n",
        "'''\n",
        "\n",
        "# Execute the query\n",
        "cursor.execute(query)\n",
        "\n",
        "# Fetch the results\n",
        "results = cursor.fetchall()\n",
        "\n",
        "# Display the results\n",
        "import pandas as pd\n",
        "\n",
        "# Create a DataFrame for better visualization\n",
        "columns = [\n",
        "    'Loan ID', 'Borrower ID', 'Loan Amount', 'Loan Date', 'Maturity Date',\n",
        "    'Interest Rate', 'Loan Status', 'Name', 'Credit Score', 'Income',\n",
        "    'Employment Status', 'Total Payments', 'Defaulted Payments', 'Default Rate'\n",
        "]\n",
        "\n",
        "df_default_rates = pd.DataFrame(results, columns=columns)\n",
        "print(df_default_rates)\n"
      ]
    },
    {
      "cell_type": "markdown",
      "metadata": {
        "id": "IfG25WZVQh-Y"
      },
      "source": [
        "**Step 5: Calculate Rolling Default Rates**"
      ]
    },
    {
      "cell_type": "code",
      "execution_count": 8,
      "metadata": {
        "colab": {
          "base_uri": "https://localhost:8080/"
        },
        "id": "716bdkNyQj24",
        "outputId": "d2f19fdb-c081-4c3d-ca3b-df02061b9691"
      },
      "outputs": [
        {
          "name": "stdout",
          "output_type": "stream",
          "text": [
            "   Loan ID  Borrower ID  Loan Amount   Loan Date Maturity Date  Interest Rate  \\\n",
            "0        1            1     100000.0  2020-01-01    2025-01-01           0.05   \n",
            "1        1            1     100000.0  2020-01-01    2025-01-01           0.05   \n",
            "2        2            2     150000.0  2020-02-01    2025-02-01           0.06   \n",
            "3        3            3     200000.0  2020-03-01    2025-03-01           0.04   \n",
            "\n",
            "  Loan Status           Name  Credit Score   Income Employment Status  \\\n",
            "0      Active       John Doe           750  80000.0          Employed   \n",
            "1      Active       John Doe           750  80000.0          Employed   \n",
            "2   Defaulted     Jane Smith           600  60000.0        Unemployed   \n",
            "3      Active  Alice Johnson           800  90000.0          Employed   \n",
            "\n",
            "  Payment Date Payment Status  Rolling Defaults  Rolling Payments  \\\n",
            "0   2020-02-01           Paid                 0                 1   \n",
            "1   2020-03-01           Paid                 0                 2   \n",
            "2   2020-02-01      Defaulted                 1                 1   \n",
            "3   2020-03-01           Paid                 0                 1   \n",
            "\n",
            "   Rolling Default Rate  \n",
            "0                   0.0  \n",
            "1                   0.0  \n",
            "2                   1.0  \n",
            "3                   0.0  \n"
          ]
        }
      ],
      "source": [
        "# Calculate Rolling Default Rates\n",
        "rolling_query = '''\n",
        "WITH loan_defaults AS (\n",
        "    SELECT\n",
        "        l.loan_id,\n",
        "        l.borrower_id,\n",
        "        l.loan_amount,\n",
        "        l.loan_date,\n",
        "        l.maturity_date,\n",
        "        l.interest_rate,\n",
        "        l.loan_status,\n",
        "        b.name,\n",
        "        b.credit_score,\n",
        "        b.income,\n",
        "        b.employment_status,\n",
        "        p.payment_date,\n",
        "        p.payment_status,\n",
        "        ROW_NUMBER() OVER (PARTITION BY l.loan_id ORDER BY p.payment_date) AS payment_seq\n",
        "    FROM\n",
        "        loans l\n",
        "    LEFT JOIN\n",
        "        payments p ON l.loan_id = p.loan_id\n",
        "    JOIN\n",
        "        borrowers b ON l.borrower_id = b.borrower_id\n",
        ")\n",
        "SELECT\n",
        "    loan_id,\n",
        "    borrower_id,\n",
        "    loan_amount,\n",
        "    loan_date,\n",
        "    maturity_date,\n",
        "    interest_rate,\n",
        "    loan_status,\n",
        "    name,\n",
        "    credit_score,\n",
        "    income,\n",
        "    employment_status,\n",
        "    payment_date,\n",
        "    payment_status,\n",
        "    SUM(CASE WHEN payment_status = 'Defaulted' THEN 1 ELSE 0 END) OVER (PARTITION BY loan_id ORDER BY payment_date ROWS BETWEEN 2 PRECEDING AND CURRENT ROW) AS rolling_defaults,\n",
        "    COUNT(*) OVER (PARTITION BY loan_id ORDER BY payment_date ROWS BETWEEN 2 PRECEDING AND CURRENT ROW) AS rolling_payments,\n",
        "    (SUM(CASE WHEN payment_status = 'Defaulted' THEN 1 ELSE 0 END) OVER (PARTITION BY loan_id ORDER BY payment_date ROWS BETWEEN 2 PRECEDING AND CURRENT ROW) * 1.0 /\n",
        "     NULLIF(COUNT(*) OVER (PARTITION BY loan_id ORDER BY payment_date ROWS BETWEEN 2 PRECEDING AND CURRENT ROW), 0)) AS rolling_default_rate\n",
        "FROM\n",
        "    loan_defaults\n",
        "ORDER BY\n",
        "    loan_id,\n",
        "    payment_date;\n",
        "'''\n",
        "\n",
        "# Execute the rolling default rates query\n",
        "cursor.execute(rolling_query)\n",
        "\n",
        "# Fetch the results\n",
        "rolling_results = cursor.fetchall()\n",
        "\n",
        "# Create a DataFrame for rolling default rates\n",
        "columns_rolling = [\n",
        "    'Loan ID', 'Borrower ID', 'Loan Amount', 'Loan Date', 'Maturity Date',\n",
        "    'Interest Rate', 'Loan Status', 'Name', 'Credit Score', 'Income',\n",
        "    'Employment Status', 'Payment Date', 'Payment Status', 'Rolling Defaults',\n",
        "    'Rolling Payments', 'Rolling Default Rate'\n",
        "]\n",
        "\n",
        "df_rolling_default_rates = pd.DataFrame(rolling_results, columns=columns_rolling)\n",
        "print(df_rolling_default_rates)\n"
      ]
    },
    {
      "cell_type": "markdown",
      "metadata": {
        "id": "MaVqW33FQtaJ"
      },
      "source": [
        "**Step 6: Close the connection**"
      ]
    },
    {
      "cell_type": "code",
      "execution_count": 9,
      "metadata": {
        "id": "fNTVO2NaQvGd"
      },
      "outputs": [],
      "source": [
        "\n",
        "conn.close()\n"
      ]
    },
    {
      "cell_type": "markdown",
      "metadata": {
        "id": "51XAXHuLREw6"
      },
      "source": [
        "\n",
        "\n",
        "# Building a CECL model using our Data:\n"
      ]
    },
    {
      "cell_type": "markdown",
      "metadata": {
        "id": "-auE13PdRY_G"
      },
      "source": [
        "\n",
        "**Step 1: Feature Engineering**\n",
        "\n",
        "In this step, we will focus on the following features for the CECL model:\n",
        "\n",
        "- Loan amount\n",
        "- Borrower credit score\n",
        "- Rolling default rates\n",
        "- Economic indicators\n"
      ]
    },
    {
      "cell_type": "code",
      "execution_count": 11,
      "metadata": {
        "id": "A_bJCKDVRn3x"
      },
      "outputs": [],
      "source": [
        "# Feature Engineering\n",
        "import pandas as pd\n",
        "import numpy as np\n",
        "\n",
        "# Data Visualization\n",
        "import matplotlib.pyplot as plt\n",
        "import seaborn as sns\n",
        "\n",
        "# Create a new DataFrame for modeling\n",
        "model_data = df_rolling_default_rates.copy()\n",
        "\n",
        "# Create a binary target variable for default (1 if defaulted, 0 otherwise)\n",
        "model_data['defaulted'] = model_data['Payment Status'].apply(lambda x: 1 if x == 'Defaulted' else 0)\n",
        "\n",
        "# Select relevant features for the model\n",
        "features = [\n",
        "    'Loan Amount', 'Credit Score', 'Rolling Default Rate', 'Income', 'Interest Rate'\n",
        "]\n",
        "\n",
        "# Prepare the feature set and target variable\n",
        "X = model_data[features]\n",
        "y = model_data['defaulted']\n"
      ]
    },
    {
      "cell_type": "markdown",
      "metadata": {
        "id": "Gc2AFv17R1VQ"
      },
      "source": [
        "**Step 2: Data Preparation**\n",
        "\n",
        "train_test split"
      ]
    },
    {
      "cell_type": "code",
      "execution_count": 12,
      "metadata": {
        "colab": {
          "base_uri": "https://localhost:8080/"
        },
        "id": "4LqFPQwoR-2a",
        "outputId": "0886fa9a-bced-4d8a-9fb8-5ddf9590d28c"
      },
      "outputs": [
        {
          "name": "stdout",
          "output_type": "stream",
          "text": [
            "Training set shape: (3, 5), Testing set shape: (1, 5)\n"
          ]
        }
      ],
      "source": [
        "from sklearn.model_selection import train_test_split\n",
        "\n",
        "# Split the data into training and testing sets\n",
        "X_train, X_test, y_train, y_test = train_test_split(X, y, test_size=0.2, random_state=42)\n",
        "\n",
        "# Display the shapes of the training and testing sets\n",
        "print(f'Training set shape: {X_train.shape}, Testing set shape: {X_test.shape}')\n"
      ]
    },
    {
      "cell_type": "markdown",
      "metadata": {
        "id": "CgIuoKFOSEV8"
      },
      "source": [
        "\n",
        "**Step 3: Model Training**\n",
        "\n",
        "using a logistic regression model for binary classification to predict loan defaults\n"
      ]
    },
    {
      "cell_type": "code",
      "execution_count": 24,
      "metadata": {
        "id": "VeeV7ecESLHu"
      },
      "outputs": [],
      "source": [
        "from sklearn.linear_model import LogisticRegression\n",
        "from sklearn.metrics import classification_report, confusion_matrix\n",
        "\n",
        "# Initialize the model\n",
        "model = LogisticRegression()\n",
        "\n",
        "# Train the model\n",
        "model.fit(X_train, y_train)\n",
        "\n",
        "# Make predictions on the test set\n",
        "y_pred = model.predict(X_test)\n",
        "\n",
        "# Calculate predicted probabilities (Probability of Default)\n",
        "y_prob = model.predict_proba(X_test)[:, 1]\n"
      ]
    },
    {
      "cell_type": "markdown",
      "metadata": {
        "id": "VVL16DDASSK2"
      },
      "source": [
        "**Step 4: Model Evaluation**\n",
        "\n",
        "to evaluate the model's performance using classification metrics"
      ]
    },
    {
      "cell_type": "code",
      "execution_count": 25,
      "metadata": {
        "colab": {
          "base_uri": "https://localhost:8080/"
        },
        "id": "ilyvuy5rSYKY",
        "outputId": "2aaba2cb-ac5b-4785-9f95-c02b345d4adb"
      },
      "outputs": [
        {
          "name": "stdout",
          "output_type": "stream",
          "text": [
            "Confusion Matrix:\n",
            "[[1]]\n",
            "\n",
            "Classification Report:\n",
            "              precision    recall  f1-score   support\n",
            "\n",
            "           0       1.00      1.00      1.00         1\n",
            "\n",
            "    accuracy                           1.00         1\n",
            "   macro avg       1.00      1.00      1.00         1\n",
            "weighted avg       1.00      1.00      1.00         1\n",
            "\n"
          ]
        },
        {
          "name": "stderr",
          "output_type": "stream",
          "text": [
            "/usr/local/lib/python3.11/dist-packages/sklearn/metrics/_classification.py:407: UserWarning: A single label was found in 'y_true' and 'y_pred'. For the confusion matrix to have the correct shape, use the 'labels' parameter to pass all known labels.\n",
            "  warnings.warn(\n"
          ]
        }
      ],
      "source": [
        "# Evaluate the model\n",
        "print(\"Confusion Matrix:\")\n",
        "print(confusion_matrix(y_test, y_pred))\n",
        "\n",
        "print(\"\\nClassification Report:\")\n",
        "print(classification_report(y_test, y_pred))\n"
      ]
    },
    {
      "cell_type": "markdown",
      "metadata": {
        "id": "9oDC9nTeTXwY"
      },
      "source": [
        "\n",
        "## Conclusion\n",
        "\n",
        "In this notebook, I illustrated how to execute complex SQL queries to build a Current Expected Credit Loss (CECL) model.\n",
        "\n",
        "### Main SQL Queries Used:\n",
        "\n",
        "1. **Creating Tables and Input Data**:\n",
        "   - The query establishes the necessary database structure for storing essential information related to loans, payments, and borrowers. It ensures that the data is organized and accessible for subsequent analysis.\n",
        "\n",
        "2. **Loan Default Rates Calculation**:\n",
        "   - This query calculates the default rates for individual loans by joining the `loans`, `payments`, and `borrowers` tables. It retrieves key details about each loan and borrower, counts the total number of payments made, and sums the number of defaulted payments to compute the default rate. The results are presented in a pandas DataFrame, facilitating easy visualization and enhancing the understanding of loan performance metrics.\n",
        "\n",
        "3. **Rolling Default Rates Calculation**:\n",
        "   - This query employs a Common Table Expression (CTE) to analyze rolling default rates based on the last three payments for each loan. It collects loan and payment details, assigning a sequence number to each payment for rolling calculations. The query computes the number of rolling defaults and total payments, deriving the rolling default rate over the specified period. The results are also displayed in a pandas DataFrame, providing valuable insights into the trends of loan defaults over time.\n",
        "\n",
        "-"
      ]
    }
  ],
  "metadata": {
    "colab": {
      "provenance": []
    },
    "kernelspec": {
      "display_name": "Python 3",
      "name": "python3"
    },
    "language_info": {
      "name": "python"
    }
  },
  "nbformat": 4,
  "nbformat_minor": 0
}
