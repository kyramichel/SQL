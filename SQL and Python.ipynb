{
 "cells": [
  {
   "cell_type": "markdown",
   "metadata": {},
   "source": [
    "# SQL & Python\n",
    "\n",
    "Data Analysis using SQL in Python: the path from raw data to data analysis involves several processes including: data cleaning and data pre-processing where SQL language can be very useful. \n",
    "\n",
    "There are several Python packages available that interface with SQL databases. \n",
    "\n",
    "1. SQLlite - is Python basic approach to SQL databases, 2. SQL Server; there is PostgreSQL, etc\n",
    "\n",
    "\n",
    "## 1. SQLlite"
   ]
  },
  {
   "cell_type": "code",
   "execution_count": 1,
   "metadata": {},
   "outputs": [],
   "source": [
    "import numpy as np \n",
    "import pandas as pd \n",
    "import matplotlib.pyplot as plt\n",
    "import sqlite3 #sqlite3 module provides SQL interface "
   ]
  },
  {
   "cell_type": "code",
   "execution_count": 8,
   "metadata": {},
   "outputs": [],
   "source": [
    "#Create a database\n",
    "\n",
    "#create a connection object that represents the database\n",
    "conn = sqlite3.connect('mydb.db') "
   ]
  },
  {
   "cell_type": "code",
   "execution_count": 9,
   "metadata": {},
   "outputs": [],
   "source": [
    "#Create a table in your database\n",
    "#A SQL query to create a table\n",
    "query = 'CREATE TABLE table1(id int, x1 real, x2 real, y real)'"
   ]
  },
  {
   "cell_type": "code",
   "execution_count": 10,
   "metadata": {},
   "outputs": [],
   "source": [
    "#Execute the query\n",
    "conn.execute(query)\n",
    "conn.commit()"
   ]
  },
  {
   "cell_type": "code",
   "execution_count": 11,
   "metadata": {},
   "outputs": [
    {
     "data": {
      "text/plain": [
       "<sqlite3.Cursor at 0x26b698a51f0>"
      ]
     },
     "execution_count": 11,
     "metadata": {},
     "output_type": "execute_result"
    }
   ],
   "source": [
    "#Insert some data into the table\n",
    "conn.execute(\"INSERT INTO table1(id, x1,x2,y) VALUES(1, 2, 8, 9)\")"
   ]
  },
  {
   "cell_type": "code",
   "execution_count": 12,
   "metadata": {},
   "outputs": [
    {
     "data": {
      "text/plain": [
       "<sqlite3.Cursor at 0x26b698a5570>"
      ]
     },
     "execution_count": 12,
     "metadata": {},
     "output_type": "execute_result"
    }
   ],
   "source": [
    "#Insert more data\n",
    "conn.execute(\"INSERT INTO table1(id, x1,x2,y) VALUES(2, 4, 5, 11), (3, 0, 1.4, 10.8)\")"
   ]
  },
  {
   "cell_type": "code",
   "execution_count": 13,
   "metadata": {},
   "outputs": [
    {
     "data": {
      "text/plain": [
       "[(1, 2.0, 8.0, 9.0), (2, 4.0, 5.0, 11.0)]"
      ]
     },
     "execution_count": 13,
     "metadata": {},
     "output_type": "execute_result"
    }
   ],
   "source": [
    "#to retrieve 2 rows\n",
    "conn.execute('SELECT * FROM table1').fetchmany(2) "
   ]
  },
  {
   "cell_type": "code",
   "execution_count": 14,
   "metadata": {},
   "outputs": [
    {
     "data": {
      "text/plain": [
       "[(1, 2.0, 8.0, 9.0), (2, 4.0, 5.0, 11.0), (3, 0.0, 1.4, 10.8)]"
      ]
     },
     "execution_count": 14,
     "metadata": {},
     "output_type": "execute_result"
    }
   ],
   "source": [
    "temp =conn.execute(\"SELECT*FROM table1\").fetchall()\n",
    "temp"
   ]
  },
  {
   "cell_type": "code",
   "execution_count": 15,
   "metadata": {},
   "outputs": [
    {
     "data": {
      "text/plain": [
       "[(1, 2.0, 8.0, 9.0), (2, 4.0, 5.0, 11.0)]"
      ]
     },
     "execution_count": 15,
     "metadata": {},
     "output_type": "execute_result"
    }
   ],
   "source": [
    "temp[:2]"
   ]
  },
  {
   "cell_type": "markdown",
   "metadata": {},
   "source": [
    "## 2. SQL Server\n",
    "\n",
    "Connecting to a SQL Server database using pyodbc module "
   ]
  },
  {
   "cell_type": "code",
   "execution_count": null,
   "metadata": {},
   "outputs": [],
   "source": [
    "pip install pyodbc "
   ]
  },
  {
   "cell_type": "code",
   "execution_count": 16,
   "metadata": {},
   "outputs": [],
   "source": [
    "import pyodbc "
   ]
  },
  {
   "cell_type": "markdown",
   "metadata": {},
   "source": [
    "#### Connect() \n",
    "\n",
    "- connect() creates a new database session & it returns an instance of the connection class that can be used to create a cursor object to run SQL queries to the database\n",
    "\n",
    "To connect to a database, call connect() and pass the relevant parameters to it\n"
   ]
  },
  {
   "cell_type": "code",
   "execution_count": 17,
   "metadata": {},
   "outputs": [],
   "source": [
    "conn = pyodbc.connect('Driver={SQL Server};'\n",
    "                      'Server=K\\SQLEXPRESS;'\n",
    "                      'Database=mytestdb;'\n",
    "                      'Trusted_Connection=yes;')"
   ]
  },
  {
   "cell_type": "code",
   "execution_count": 18,
   "metadata": {},
   "outputs": [],
   "source": [
    "# Create a cursor object to perform database operations\n",
    "cursor = conn.cursor()"
   ]
  },
  {
   "cell_type": "code",
   "execution_count": 19,
   "metadata": {},
   "outputs": [
    {
     "name": "stdout",
     "output_type": "stream",
     "text": [
      "(1, 'Kyra', 'Michel')\n"
     ]
    }
   ],
   "source": [
    "#Execute a query\n",
    "# A sample query of all data from \"dbo.mytesttable\" on the SQL Server database \"mytestdb\":\n",
    "cursor.execute('SELECT * FROM mytestdb.dbo.mytesttable')\n",
    "\n",
    "#retrieve query results\n",
    "for row in cursor:\n",
    "    print(row)"
   ]
  },
  {
   "cell_type": "code",
   "execution_count": null,
   "metadata": {},
   "outputs": [],
   "source": []
  },
  {
   "cell_type": "markdown",
   "metadata": {},
   "source": [
    "### Using pandas read_sql_query\n",
    "\n",
    "retrieved query is a DataFrame"
   ]
  },
  {
   "cell_type": "code",
   "execution_count": 20,
   "metadata": {},
   "outputs": [
    {
     "data": {
      "text/html": [
       "<div>\n",
       "<style scoped>\n",
       "    .dataframe tbody tr th:only-of-type {\n",
       "        vertical-align: middle;\n",
       "    }\n",
       "\n",
       "    .dataframe tbody tr th {\n",
       "        vertical-align: top;\n",
       "    }\n",
       "\n",
       "    .dataframe thead th {\n",
       "        text-align: right;\n",
       "    }\n",
       "</style>\n",
       "<table border=\"1\" class=\"dataframe\">\n",
       "  <thead>\n",
       "    <tr style=\"text-align: right;\">\n",
       "      <th></th>\n",
       "      <th>ix</th>\n",
       "      <th>firstname</th>\n",
       "      <th>lastname</th>\n",
       "    </tr>\n",
       "  </thead>\n",
       "  <tbody>\n",
       "    <tr>\n",
       "      <th>0</th>\n",
       "      <td>1</td>\n",
       "      <td>Kyra</td>\n",
       "      <td>Michel</td>\n",
       "    </tr>\n",
       "  </tbody>\n",
       "</table>\n",
       "</div>"
      ],
      "text/plain": [
       "   ix firstname lastname\n",
       "0   1      Kyra   Michel"
      ]
     },
     "execution_count": 20,
     "metadata": {},
     "output_type": "execute_result"
    }
   ],
   "source": [
    "import pandas as pd\n",
    "\n",
    "table = pd.read_sql_query('SELECT * FROM mytestdb.dbo.mytesttable',conn)\n",
    "table"
   ]
  },
  {
   "cell_type": "code",
   "execution_count": 21,
   "metadata": {},
   "outputs": [],
   "source": [
    "# Close the cursor and connection \n",
    "cursor.close()\n",
    "conn.close()"
   ]
  },
  {
   "cell_type": "code",
   "execution_count": null,
   "metadata": {},
   "outputs": [],
   "source": []
  },
  {
   "cell_type": "markdown",
   "metadata": {},
   "source": [
    "## 3. PostgreSQL\n",
    "\n",
    "Connecting to PostgreSQL database is similar to SQL Server \n",
    "\n",
    "In Jupyter notebook, to connect to a PostgreSQL database similarly using a connect() method from psycopg2 module and passing the relevant parameters.\n",
    "\n",
    "Steps:\n"
   ]
  },
  {
   "cell_type": "code",
   "execution_count": null,
   "metadata": {},
   "outputs": [],
   "source": [
    "#quick installation\n",
    "pip install -U pip \n",
    "pip install psycopg2-binary "
   ]
  },
  {
   "cell_type": "code",
   "execution_count": 22,
   "metadata": {},
   "outputs": [],
   "source": [
    "import psycopg2"
   ]
  },
  {
   "cell_type": "markdown",
   "metadata": {},
   "source": [
    "\n",
    "#### Create a cursor object:\n",
    "\n",
    "conn = psycopg2.connect(\n",
    "    host=\"localhost\",\n",
    "    database=\"database_name\",\n",
    "    user=\"postgres\",\n",
    "    password=\"your_password\")\n",
    "\n",
    "#### Open a cursor to run SQL commands to the database:\n",
    "\n",
    "cursor = conn.cursor()\n",
    "\n",
    "#### Execute sample query:\n",
    "\n",
    "cursor.execute(\"SELECT * FROM my_data\")\n",
    "\n",
    "#### Retrieve query results:\n",
    "\n",
    "query = cursor.fetchall()\n",
    "\n",
    "query\n",
    "\n",
    "#### Close the cursor and connection to so the server:\n",
    "\n",
    "cursor.close()\n",
    "\n",
    "conn.close()\n"
   ]
  }
 ],
 "metadata": {
  "kernelspec": {
   "display_name": "Python 3",
   "language": "python",
   "name": "python3"
  },
  "language_info": {
   "codemirror_mode": {
    "name": "ipython",
    "version": 3
   },
   "file_extension": ".py",
   "mimetype": "text/x-python",
   "name": "python",
   "nbconvert_exporter": "python",
   "pygments_lexer": "ipython3",
   "version": "3.8.3"
  }
 },
 "nbformat": 4,
 "nbformat_minor": 4
}
